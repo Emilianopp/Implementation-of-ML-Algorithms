{
 "cells": [
  {
   "cell_type": "code",
   "execution_count": 43,
   "metadata": {},
   "outputs": [],
   "source": [
    "import numpy as np\n",
    "import pandas as pd\n",
    "import  matplotlib.pyplot as plt\n",
    "import seaborn as sns\n",
    "from sklearn import datasets\n",
    "\n",
    "#set seed for random elements\n",
    "np.random.seed(100)\n",
    "import warnings\n",
    "warnings.filterwarnings(\"ignore\")"
   ]
  },
  {
   "cell_type": "code",
   "execution_count": 527,
   "metadata": {},
   "outputs": [
    {
     "data": {
      "text/plain": [
       "0.04938271604938267"
      ]
     },
     "execution_count": 527,
     "metadata": {},
     "output_type": "execute_result"
    }
   ],
   "source": [
    "df= pd.read_csv('poop.csv',index_col = 0)\n",
    "where = {0.0: {'y': 1, 'x': 'petal_length', 'split': 1.7}}\n",
    "values = list(where.values())[0]\n",
    "x=values['x']\n",
    "y=values['y']\n",
    "split= values['split']\n",
    "\n",
    "df_high = df[df[x] <= split ]\n",
    "df_low = df[df[x] > split ]\n",
    "y_high=df_high['species']\n",
    "y_low=df_low['species']\n",
    "target = 1\n",
    "p_low = np.sum( np.where(y_low  == target,0,1) )/((np.sum( np.where(y_low  == target,0,1) )) + (np.sum( np.where(y_low  == target,1,0) ))  ) \n",
    "p_high = np.sum( np.where(y_high  == target,0,1) ) / ((np.sum( np.where(y_high  == target,0,1) )) + (np.sum( np.where(y_high  == target,1,0) )))\n",
    "g_high=gini(p_high,1-p_high)\n",
    "g_low= gini(p_low,1-p_low)\n",
    "score = (g_low*len(y_low) + g_high*len(y_high) )/ (len(y_high) + len(y_low) )\n",
    "score"
   ]
  },
  {
   "cell_type": "markdown",
   "metadata": {},
   "source": [
    "#### Source of binary tree visualization implementation: https://stackoverflow.com/questions/34012886/print-binary-tree-level-by-level-in-python"
   ]
  },
  {
   "cell_type": "code",
   "execution_count": 538,
   "metadata": {},
   "outputs": [],
   "source": [
    "class Node:\n",
    "\n",
    "    def __init__(self, key =None , root = None , x = None, y = None):\n",
    "        if key != None:\n",
    "            values = list(key.values())[0]\n",
    "            self.key = values['split']\n",
    "        else:\n",
    "            values = {'x':None,'y':None} \n",
    "            self.key = 0\n",
    "        self.root = root\n",
    "        self.right = None\n",
    "        self.left = None\n",
    "        if x == None:\n",
    "         \n",
    "            self.x = values['x']\n",
    "        else:\n",
    "            self.x = x\n",
    "        if y == None:\n",
    "            self.y = values['y']\n",
    "        else: \n",
    "            self.y = y\n",
    "        \n",
    "    def display(self):\n",
    "        lines, *_ = self._display_aux()\n",
    "        for line in lines:\n",
    "            print(line)\n",
    "\n",
    "        \n",
    "    def _display_aux(self):\n",
    "        \"\"\"Returns list of strings, width, height, and horizontal coordinate of the root.\"\"\"\n",
    "        # No child.\n",
    "        if self.right is None and self.left is None:\n",
    " \n",
    "            line =  f'y = {self.y} '\n",
    "            width = len(line)\n",
    "            height = 1\n",
    "            middle = width // 2\n",
    "            return [line], width, height, middle\n",
    "\n",
    "        # Only left child.\n",
    "        if self.right is None:\n",
    "            lines, n, p, x = self.left._display_aux()\n",
    "\n",
    "            s = f'{self.x} >= {np.round(self.key,3)} at y = {self.y} '\n",
    "       \n",
    "            u = len(s)\n",
    "            first_line = (x + 1) * ' ' + (n - x - 2) * '_' + s\n",
    "            second_line = x * ' ' + '/' + (n - x - 2 + u) * ' '\n",
    "            shifted_lines = [line + u * ' ' for line in lines]\n",
    "            return [first_line, second_line] + shifted_lines, n + u, p + 2, n + u // 2\n",
    "\n",
    "        # Only right child.\n",
    "        if self.left is None:\n",
    "            lines, n, p, x = self.right._display_aux()\n",
    "\n",
    "            s = f'{self.x} >= {np.round(self.key,3)} at y = {self.y} '\n",
    "            u = len(s)\n",
    "            first_line = s + x * '_' + (n - x) * ' '\n",
    "            second_line = (u + x) * ' ' + '\\\\' + (n - x - 2) * ' '\n",
    "            shifted_lines = [u * ' ' + line for line in lines]\n",
    "            return [first_line, second_line] + shifted_lines, n + u, p + 2, u // 2\n",
    "\n",
    "        # Two children.\n",
    "\n",
    "        left, n, p, x = self.left._display_aux()\n",
    "        right, m, q, y = self.right._display_aux()\n",
    "        lines, n, p, x = self.left._display_aux()\n",
    "\n",
    "        s = f'{self.x} >= {np.round(self.key,3)} at y = {self.y} '\n",
    "        \n",
    "        u = len(s)\n",
    "        first_line = (x + 1) * ' ' + (n - x - 2) * '_' + s + y * '_' + (m - y) * ' '\n",
    "        second_line = x * ' ' + '/' + (n - x - 2 + u + y) * ' ' + '\\\\' + (m - y - 2) * ' '\n",
    "        if p < q:\n",
    "            left += [n * ' '] * (q - p)\n",
    "        elif q < p:\n",
    "            right += [m * ' '] * (p - q)\n",
    "        zipped_lines = zip(left, right)\n",
    "        lines = [first_line, second_line] + [a + u * ' ' + b for a, b in zipped_lines]\n",
    "        return lines, n + m + u, max(p, q) + 2, n + u // 2\n",
    "\n",
    "\n"
   ]
  },
  {
   "cell_type": "markdown",
   "metadata": {},
   "source": [
    "# Decision trees "
   ]
  },
  {
   "cell_type": "markdown",
   "metadata": {
    "slideshow": {
     "slide_type": "notes"
    }
   },
   "source": [
    "### Now these are cool \n",
    "### The Decision trees are a bit of a different beast \n",
    "### Unlike generalised linear models which often have a defined link and loss function , \n",
    "### Decision trees are a recursevely optimized model through a criteria the most popular being gini index, although entropy is also popular \n",
    "\n"
   ]
  },
  {
   "cell_type": "code",
   "execution_count": 532,
   "metadata": {},
   "outputs": [],
   "source": [
    "iris = datasets.load_iris()\n",
    "X = iris.data[:, :2]  # we only take the first two features.\n",
    "y = iris.target\n",
    "df= pd.read_csv('IRIS.csv')\n",
    "df.species[df.species == 'Iris-setosa'] = 0\n",
    "df.species[df.species == 'Iris-versicolor'] = 1\n",
    "df.species[df.species == 'Iris-virginica'] = 2\n",
    "df.to_numpy().T.sort(axis = 0)\n"
   ]
  },
  {
   "cell_type": "code",
   "execution_count": 5,
   "metadata": {},
   "outputs": [],
   "source": [
    "def gini(p,q):\n",
    " \n",
    "    return (1 -(p)**2 - q**2)"
   ]
  },
  {
   "cell_type": "code",
   "execution_count": 7,
   "metadata": {},
   "outputs": [],
   "source": [
    "def tree(X,partitions):\n",
    "    partitions = np.hsplit(X)\n",
    "    "
   ]
  },
  {
   "cell_type": "code",
   "execution_count": 513,
   "metadata": {},
   "outputs": [],
   "source": [
    "def split_score(y_low,y_high,target,j,split):\n",
    "\n",
    "\n",
    "    p_low = np.sum( np.where(y_low  == target,0,1) )/((np.sum( np.where(y_low  == target,0,1) )) + (np.sum( np.where(y_low  == target,1,0) ))  ) \n",
    "    q_low = 1- p_low\n",
    "    p_high = np.sum( np.where(y_high  == target,0,1) ) / ((np.sum( np.where(y_high  == target,0,1) )) + (np.sum( np.where(y_high  == target,1,0) )))\n",
    "    q_high = 1 - p_high\n",
    "    g_low = gini(p_low,q_low)\n",
    "    g_high = gini(p_high,q_high)\n",
    "    score = (g_low*len(y_low) + g_high*len(y_high) )/ (len(y_high) + len(y_low) )\n",
    "                                                     \n",
    "    return score"
   ]
  },
  {
   "cell_type": "code",
   "execution_count": 514,
   "metadata": {},
   "outputs": [],
   "source": [
    "def get_split_score(i,j,target,df):\n",
    "        iteration = df[[j,target]]\n",
    "        iteration = iteration.sort_values(by = j)\n",
    "\n",
    "\n",
    "        # Using median as I want to use a value that is actually in the data, but could have used mean\n",
    "        iteration_high = iteration[iteration[j].mean() <= iteration[j]]\n",
    "        iteration_low = iteration[iteration[j].mean() > iteration[j]]\n",
    "\n",
    "        y_high = iteration_high[target]\n",
    "        y_low = iteration_low[target]\n",
    "\n",
    "        score = split_score(y_low,y_high,i,j,iteration[j].mean())\n",
    "        return {score:{\"y\":i,\"x\":j,\"split\":iteration[j].mean()}}"
   ]
  },
  {
   "cell_type": "code",
   "execution_count": 515,
   "metadata": {},
   "outputs": [],
   "source": [
    "\n",
    "def split_df(df,where):\n",
    "    \n",
    "    values = list(where.values())[0]\n",
    "    x=values['x']\n",
    "    y=values['y']\n",
    "    split= values['split']\n",
    "    \n",
    "    df_high = df[df[x] <= split ]\n",
    "    df_low = df[df[x] > split ]\n",
    "        \n",
    "    \n",
    "    #print(f\"===========================where = {where} split = {split} column = {x} len df_high = {len(df_high)} df_low = {len(df_low)}\\n\",\"df_high\\n\",df_high,\"\\n df_low\\n\",df_low)\n",
    "    return df_high,df_low\n"
   ]
  },
  {
   "cell_type": "code",
   "execution_count": 542,
   "metadata": {},
   "outputs": [
    {
     "name": "stdout",
     "output_type": "stream",
     "text": [
      "{0.0: {'y': 2, 'x': 'petal_width', 'split': 2.38}}\n",
      "{0.0: {'y': 2, 'x': 'petal_width', 'split': 2.0799999999999996}}\n",
      "{0.0: {'y': 2, 'x': 'petal_length', 'split': 5.433333333333334}}\n",
      "{0.0: {'y': 2, 'x': 'petal_width', 'split': 1.9928571428571427}}\n",
      "{0.0: {'y': 2, 'x': 'petal_width', 'split': 1.5}}\n",
      "{0.0: {'y': 2, 'x': 'petal_width', 'split': 1.575}}\n",
      "{0.0: {'y': 1, 'x': 'petal_width', 'split': 1.4666666666666668}}\n",
      "{0.0: {'y': 1, 'x': 'petal_width', 'split': 1.4124999999999999}}\n",
      "{0.0: {'y': 2, 'x': 'petal_width', 'split': 1.65}}\n",
      "{0.0: {'y': 1, 'x': 'petal_width', 'split': 1.4666666666666668}}\n",
      "{0.0: {'y': 1, 'x': 'petal_width', 'split': 1.2590909090909093}}\n",
      "{0.0: {'y': 1, 'x': 'petal_width', 'split': 0.8888888888888888}}\n",
      "{0.0: {'y': 0, 'x': 'petal_width', 'split': 0.24166666666666672}}\n"
     ]
    }
   ],
   "source": [
    "def build_tree(df,target,root = None,count = 0):\n",
    "    \n",
    "    count= count +1\n",
    "    \n",
    "    x_col = df.drop(columns = [target]).columns\n",
    "    y_labels = df[target].unique()\n",
    "    split_list = {}\n",
    " \n",
    "    #for each outcome calculate the meanie gini at each predictor to determine best split\n",
    "    for i in y_labels: \n",
    "        for j in x_col:\n",
    "            split_list.update(get_split_score(i,j,target,df))\n",
    "           \n",
    "              \n",
    "    min_score = min(split_list.keys())\n",
    "    split = split_list[min_score]\n",
    "    #min_score = np.round(min_score,2)\n",
    "    node_val = {min_score:split}\n",
    "    node = Node(key = node_val)\n",
    "    df_high,df_low = split_df(df,node_val)\n",
    "\n",
    " \n",
    "    '''if(root != None):\n",
    "        print(root.key)\n",
    "        if(root.key <= min_score):\n",
    "            t= Node(y = \"test\")\n",
    "     \n",
    "            return Node(y = node.y)'''\n",
    "        \n",
    "    \n",
    "    #If gini score is 0 it means it has seperated segregated the target value to a leaf so we do not want to keep recursing after\n",
    "    #print(\"sep ========================\",min_score,'split=',node_val)\n",
    "    #print(f'======================= this is in main score {min_score} y= {node.y}\\n',\"df_low \\n\",df_low,\"\\n df_high\\n \",df_high)\n",
    "\n",
    "    if min_score == 0:\n",
    "        print(node_val)\n",
    "        return Node(y = node.y)\n",
    "    #if it is not zero recurse to build tree \n",
    "    else:\n",
    "        node.left = build_tree(df_low,target,node)\n",
    "        node.right = build_tree(df_high,target,node)\n",
    "    \n",
    "    return node\n",
    "\n",
    "\n",
    "tree=build_tree(df,'species',count= 0)\n"
   ]
  },
  {
   "cell_type": "code",
   "execution_count": 541,
   "metadata": {},
   "outputs": [
    {
     "name": "stdout",
     "output_type": "stream",
     "text": [
      "    _petal_length >= 1.704 at y = 1 ___   \n",
      "   /                                   \\ \n",
      "y = 1                                y = 0 \n"
     ]
    }
   ],
   "source": [
    "#tree.right.display()\n",
    "tree.right.display()"
   ]
  }
 ],
 "metadata": {
  "kernelspec": {
   "display_name": "Python 3",
   "language": "python",
   "name": "python3"
  },
  "language_info": {
   "codemirror_mode": {
    "name": "ipython",
    "version": 3
   },
   "file_extension": ".py",
   "mimetype": "text/x-python",
   "name": "python",
   "nbconvert_exporter": "python",
   "pygments_lexer": "ipython3",
   "version": "3.7.4"
  }
 },
 "nbformat": 4,
 "nbformat_minor": 4
}
