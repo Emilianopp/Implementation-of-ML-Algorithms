{
 "cells": [
  {
   "cell_type": "code",
   "execution_count": 12,
   "metadata": {},
   "outputs": [],
   "source": [
    "import numpy as np\r\n",
    "import pandas as pd\r\n",
    "import  matplotlib.pyplot as plt\r\n",
    "import seaborn as sns\r\n",
    "from sklearn import datasets\r\n",
    "\r\n",
    "#set seed for random elements\r\n",
    "np.random.seed(100)\r\n",
    "import warnings\r\n",
    "warnings.filterwarnings(\"ignore\")"
   ]
  },
  {
   "cell_type": "markdown",
   "metadata": {},
   "source": [
    "#### Source of binary tree visualization implementation: <https://stackoverflow.com/questions/34012886/print-binary-tree-level-by-level-in-python>\r\n",
    "#### I had to edit Tree implementation as well as print algorithm to fit it with the purpose of the task"
   ]
  },
  {
   "cell_type": "code",
   "execution_count": 33,
   "metadata": {},
   "outputs": [],
   "source": [
    "class Node:\r\n",
    "\r\n",
    "    def __init__(self, key =None , root = None , x = None, y = None):\r\n",
    "        if key != None:\r\n",
    "            values = list(key.values())[0]\r\n",
    "            self.key = values['split']\r\n",
    "        else:\r\n",
    "            values = {'x':None,'y':None} \r\n",
    "            self.key = 0\r\n",
    "        self.root = root\r\n",
    "        self.right = None\r\n",
    "        self.left = None\r\n",
    "        if x == None:\r\n",
    "         \r\n",
    "            self.x = values['x']\r\n",
    "        else:\r\n",
    "            self.x = x\r\n",
    "        if y == None:\r\n",
    "            self.y = values['y']\r\n",
    "        else: \r\n",
    "            self.y = y\r\n",
    "\r\n",
    "\r\n",
    "    def set_left(self,left):\r\n",
    "        self.left = left\r\n",
    "\r\n",
    "\r\n",
    "        \r\n",
    "    def set_right(self,right):\r\n",
    "        self.right = right\r\n",
    "\r\n",
    "    def display(self):\r\n",
    "        lines, *_ = self._display_aux()\r\n",
    "        for line in lines:\r\n",
    "            print(line)\r\n",
    "\r\n",
    "        \r\n",
    "    def _display_aux(self):\r\n",
    "        \"\"\"Returns list of strings, width, height, and horizontal coordinate of the root.\"\"\"\r\n",
    "        # No child.\r\n",
    "        if self.right is None and self.left is None:\r\n",
    " \r\n",
    "            line =  f'y = {self.y} '\r\n",
    "            width = len(line)\r\n",
    "            height = 1\r\n",
    "            middle = width // 2\r\n",
    "            return [line], width, height, middle\r\n",
    "\r\n",
    "        # Only left child.\r\n",
    "        if self.right is None:\r\n",
    "            lines, n, p, x = self.left._display_aux()\r\n",
    "\r\n",
    "            s = f'{self.x} >= {np.round(self.key,3)} y = {self.y} '\r\n",
    "       \r\n",
    "            u = len(s)\r\n",
    "            first_line = (x + 1) * ' ' + (n - x - 2) * '_' + s\r\n",
    "            second_line = x * ' ' + '/' + (n - x - 2 + u) * ' '\r\n",
    "            shifted_lines = [line + u * ' ' for line in lines]\r\n",
    "            return [first_line, second_line] + shifted_lines, n + u, p + 2, n + u // 2\r\n",
    "\r\n",
    "        # Only right child.\r\n",
    "        if self.left is None:\r\n",
    "            lines, n, p, x = self.right._display_aux()\r\n",
    "\r\n",
    "            s = f'{self.x} >= {np.round(self.key,3)} y = {self.y} '\r\n",
    "            u = len(s)\r\n",
    "            first_line = s + x * '_' + (n - x) * ' '\r\n",
    "            second_line = (u + x) * ' ' + '\\\\' + (n - x - 2) * ' '\r\n",
    "            shifted_lines = [u * ' ' + line for line in lines]\r\n",
    "            return [first_line, second_line] + shifted_lines, n + u, p + 2, u // 2\r\n",
    "\r\n",
    "        # Two children.\r\n",
    "\r\n",
    "        left, n, p, x = self.left._display_aux()\r\n",
    "        right, m, q, y = self.right._display_aux()\r\n",
    "        lines, n, p, x = self.left._display_aux()\r\n",
    "\r\n",
    "        s = f'{self.x} >= {np.round(self.key,3)} y = {self.y} '\r\n",
    "        \r\n",
    "        u = len(s)\r\n",
    "        first_line = (x + 1) * ' ' + (n - x - 2) * '_' + s + y * '_' + (m - y) * ' '\r\n",
    "        second_line = x * ' ' + '/' + (n - x - 2 + u + y) * ' ' + '\\\\' + (m - y - 2) * ' '\r\n",
    "        if p < q:\r\n",
    "            left += [n * ' '] * (q - p)\r\n",
    "        elif q < p:\r\n",
    "            right += [m * ' '] * (p - q)\r\n",
    "        zipped_lines = zip(left, right)\r\n",
    "        lines = [first_line, second_line] + [a + u * ' ' + b for a, b in zipped_lines]\r\n",
    "        return lines, n + m + u, max(p, q) + 2, n + u // 2\r\n",
    "\r\n",
    "\r\n"
   ]
  },
  {
   "cell_type": "markdown",
   "metadata": {},
   "source": [
    "# Decision trees "
   ]
  },
  {
   "cell_type": "markdown",
   "metadata": {
    "slideshow": {
     "slide_type": "notes"
    }
   },
   "source": [
    "### Now these are cool \n",
    "### The Decision trees are a bit of a different beast \n",
    "### Unlike generalised linear models which often have a defined link and loss function , \n",
    "### Decision trees are a recursevely optimized model through a criteria the most popular being gini index, although entropy is also popular \n",
    "\n"
   ]
  },
  {
   "cell_type": "code",
   "execution_count": 15,
   "metadata": {},
   "outputs": [],
   "source": [
    "iris = datasets.load_iris()\r\n",
    "X = iris.data[:, :2]  # we only take the first two features.\r\n",
    "y = iris.target\r\n",
    "df= pd.read_csv('IRIS.csv')\r\n",
    "df.species[df.species == 'Iris-setosa'] = 0\r\n",
    "df.species[df.species == 'Iris-versicolor'] = 1\r\n",
    "df.species[df.species == 'Iris-virginica'] = 2\r\n",
    "df.to_numpy().T.sort(axis = 0)\r\n"
   ]
  },
  {
   "cell_type": "markdown",
   "metadata": {},
   "source": [
    "#### Create gini purity evaluation criteria"
   ]
  },
  {
   "cell_type": "code",
   "execution_count": 16,
   "metadata": {},
   "outputs": [],
   "source": [
    "def gini(p,q):\r\n",
    "    return (1 -(p)**2 - q**2)"
   ]
  },
  {
   "cell_type": "markdown",
   "metadata": {},
   "source": [
    "#### Calculate the gini purity for each branch split"
   ]
  },
  {
   "cell_type": "code",
   "execution_count": 18,
   "metadata": {},
   "outputs": [],
   "source": [
    "\r\n",
    "def split_score(y_low,y_high,target,j,split):\r\n",
    "    p_low = np.sum( np.where(y_low  == target,0,1) )/((np.sum( np.where(y_low  == target,0,1) )) + (np.sum( np.where(y_low  == target,1,0) ))  ) \r\n",
    "    q_low = 1- p_low\r\n",
    "    p_high = np.sum( np.where(y_high  == target,0,1) ) / ((np.sum( np.where(y_high  == target,0,1) )) + (np.sum( np.where(y_high  == target,1,0) )))\r\n",
    "    q_high = 1 - p_high\r\n",
    "    g_low = gini(p_low,q_low)\r\n",
    "    g_high = gini(p_high,q_high)\r\n",
    "    score = (g_low*len(y_low) + g_high*len(y_high) )/ (len(y_high) + len(y_low) )                                                  \r\n",
    "    return score"
   ]
  },
  {
   "cell_type": "code",
   "execution_count": 19,
   "metadata": {},
   "outputs": [],
   "source": [
    "def get_split_score(i,j,target,df):\r\n",
    "        iteration = df[[j,target]]\r\n",
    "        iteration = iteration.sort_values(by = j)\r\n",
    "        # Using median as I want to use a value that is actually in the data, but could have used mean\r\n",
    "        iteration_high = iteration[iteration[j].mean() >= iteration[j]]\r\n",
    "        iteration_low = iteration[iteration[j].mean() < iteration[j]]\r\n",
    "        y_high = iteration_high[target]\r\n",
    "        y_low = iteration_low[target]\r\n",
    "        score = split_score(y_low,y_high,i,j,iteration[j].mean())\r\n",
    "        test = np.round(iteration[j].mean(),3)\r\n",
    "        if(test==1.704 and score == 0):\r\n",
    "            iteration_high.to_csv('test1.csv')\r\n",
    "            iteration_low.to_csv('test.csv')\r\n",
    "            print('hi')\r\n",
    "        \r\n",
    "        return {score:{\"y\":i,\"x\":j,\"split\":iteration[j].mean()}}\r\n"
   ]
  },
  {
   "cell_type": "code",
   "execution_count": 20,
   "metadata": {},
   "outputs": [],
   "source": [
    "def split_df(df,where):\r\n",
    "    values = list(where.values())[0]\r\n",
    "    x=values['x']\r\n",
    "    y=values['y']\r\n",
    "    split= values['split']\r\n",
    "    df_high = df[df[x] >= split ]\r\n",
    "    df_low = df[df[x] < split ]\r\n",
    "    return df_high,df_low"
   ]
  },
  {
   "cell_type": "markdown",
   "metadata": {},
   "source": [
    "Most basic Descicion tree algorithm. \r\n",
    "leafs are only created when gini impurity is zero for a split\r\n"
   ]
  },
  {
   "cell_type": "code",
   "execution_count": 52,
   "metadata": {},
   "outputs": [],
   "source": [
    "def build_tree(df,target,root = None,max_depth=None,depth = 1):\r\n",
    "    x_col = df.drop(columns = [target]).columns\r\n",
    "    y_labels = df[target].unique()\r\n",
    "    split_list = {}\r\n",
    "    #for each outcome calculate the meanie gini at each predictor to determine best split\r\n",
    "    for i in y_labels: \r\n",
    "        for j in x_col:\r\n",
    "            split_list.update(get_split_score(i,j,target,df))\r\n",
    "\r\n",
    "    min_score = min(split_list.keys())\r\n",
    "    split = split_list[min_score]\r\n",
    "    node_val = {min_score:split}\r\n",
    "    node = Node(key = node_val)\r\n",
    "    df_high,df_low = split_df(df,node_val)\r\n",
    "\r\n",
    "    #IF max depth has been reached set the value of the node to the lowest gini score\r\n",
    "    if max_depth != None:\r\n",
    "        if max_depth == depth:\r\n",
    "            return Node(y = node.y)\r\n",
    "    #If gini score is 0 it means it has seperated segregated the target value to a leaf so we do not want to keep recursing after\r\n",
    "    # Now there are various cases so in the below code I explain how to handle them\r\n",
    "    if min_score == 0:\r\n",
    "        low_features = df_low[target].unique()\r\n",
    "        high_features = df_high[target].unique()\r\n",
    "        #In the case were the data has fully segregated the output, we return a leaf node with the value of this iterations output(y)\r\n",
    "        if (len( low_features ) == 1 and len(high_features) == 1  ):\r\n",
    "            if(low_features[0] == high_features[0]):\r\n",
    "                return Node(y = node.y)\r\n",
    "        #If the low features only has one var then set that to be a leaf\r\n",
    "        if(len( low_features ) == 1) :\r\n",
    "            node.set_left(Node(y=low_features[0]))\r\n",
    "        #if the \"high data\" still has a mix of outputs(y) split it again to fully segregate them    \r\n",
    "        else:\r\n",
    "            node.set_left = build_tree(df_low,target,node,depth = depth+1,max_depth=max_depth)\r\n",
    "        #repeated steps of left nodes for right nodes\r\n",
    "        if(len(high_features) == 1 ):\r\n",
    "            node.set_right(Node(y=high_features[0]))\r\n",
    "        else:\r\n",
    "            node.set_right(build_tree(df_high,target,node,depth = depth+1,max_depth=max_depth))\r\n",
    "            return node\r\n",
    "    #if it is not zero recurse to build tree \r\n",
    "    else:\r\n",
    "        node.set_left(build_tree(df_low,target,node,depth = depth+1,max_depth=max_depth))\r\n",
    "        node.set_right(build_tree(df_high,target,node,depth = depth+1,max_depth=max_depth))\r\n",
    "    \r\n",
    "    return node\r\n",
    "\r\n",
    "\r\n",
    "\r\n"
   ]
  },
  {
   "cell_type": "markdown",
   "metadata": {},
   "source": [
    "#### For display simplicity we will display a tree with a depth of 3 "
   ]
  },
  {
   "cell_type": "code",
   "execution_count": 53,
   "metadata": {},
   "outputs": [
    {
     "name": "stdout",
     "output_type": "stream",
     "text": [
      "                     __________________petal_length >= 3.759 y = 0 ___________________                    \n",
      "                    /                                                                 \\                  \n",
      "    _petal_length >= 1.704 y = 1 ___                                   _petal_width >= 1.723 y = 2 ___   \n",
      "   /                                \\                                /                               \\ \n",
      "y = 0                             y = 1                             y = 1                            y = 2 \n"
     ]
    }
   ],
   "source": [
    "tree=build_tree(df,'species',max_depth=3)\r\n",
    "tree.display()"
   ]
  },
  {
   "cell_type": "code",
   "execution_count": 23,
   "metadata": {},
   "outputs": [
    {
     "data": {
      "text/plain": [
       "False"
      ]
     },
     "execution_count": 23,
     "metadata": {},
     "output_type": "execute_result"
    }
   ],
   "source": [
    "0.054580896686159834 == 0 "
   ]
  }
 ],
 "metadata": {
  "interpreter": {
   "hash": "961d25575582502f5deaa39b930dbe1b811639c5b9aea0b446aa7add69b24b8e"
  },
  "kernelspec": {
   "display_name": "Python 3",
   "language": "python",
   "name": "python3"
  },
  "language_info": {
   "codemirror_mode": {
    "name": "ipython",
    "version": 3
   },
   "file_extension": ".py",
   "mimetype": "text/x-python",
   "name": "python",
   "nbconvert_exporter": "python",
   "pygments_lexer": "ipython3",
   "version": "3.7.4"
  }
 },
 "nbformat": 4,
 "nbformat_minor": 4
}
