{
 "cells": [
  {
   "cell_type": "markdown",
   "metadata": {},
   "source": [
    "## Making a vocabulary object"
   ]
  },
  {
   "cell_type": "code",
   "execution_count": 90,
   "metadata": {},
   "outputs": [],
   "source": [
    "import pandas as pd\n",
    "import numpy as np \n",
    "import re "
   ]
  },
  {
   "cell_type": "code",
   "execution_count": 91,
   "metadata": {},
   "outputs": [],
   "source": [
    "class Vocabulary():\n",
    "\n",
    "    def __init__(self, corpus):\n",
    "        self.corpus = corpus\n",
    "        self.max_len = max([len(x) for x in corpus])\n",
    "\n",
    "    def createVocab(self):\n",
    "        self.vocab = {}\n",
    "        i = 0\n",
    "        for line in self.corpus:\n",
    "            for word in line.split(\" \"):\n",
    "                word = re.sub(r\"[+,'-,.!?]\", \"\", word).lower()\n",
    "                if word not in self.vocab:\n",
    "                    self.vocab.update({word: i})\n",
    "                    i += 1\n",
    "\n",
    "    def vect_helper(self, encoding, words, i):\n",
    "        indexes = [self.vocab.get(x) for x in words]\n",
    "        for i, index in enumerate(indexes):\n",
    "            encoding[i][index] = 1\n",
    "        return encoding\n",
    "\n",
    "    def createEncodings(self):\n",
    "        encodings = np.zeros((len(self.corpus), self.max_len, len(self.vocab)))\n",
    "        for i, line in enumerate(self.corpus):\n",
    "            line = re.sub(r\"[+,'-,.!?]\", \"\", line).lower()\n",
    "            words = line.split(\" \")\n",
    "            encodings[i] = self.vect_helper(encodings[i], words, i)\n",
    "\n",
    "        return encodings\n"
   ]
  },
  {
   "cell_type": "code",
   "execution_count": 92,
   "metadata": {},
   "outputs": [],
   "source": [
    "df = pd.read_csv(\"RickandMortyScripts.csv\")\n",
    "corpus = df[\"line\"]\n",
    "vocabulary = Vocabulary(corpus)\n",
    "vocabulary.createVocab()\n"
   ]
  },
  {
   "cell_type": "markdown",
   "metadata": {},
   "source": [
    "First 10 vocabulary items"
   ]
  },
  {
   "cell_type": "code",
   "execution_count": 93,
   "metadata": {},
   "outputs": [
    {
     "data": {
      "text/plain": [
       "[('morty', 0),\n",
       " ('you', 1),\n",
       " ('gotta', 2),\n",
       " ('come', 3),\n",
       " ('on', 4),\n",
       " ('jus', 5),\n",
       " ('with', 6),\n",
       " ('me', 7),\n",
       " ('what', 8),\n",
       " ('rick', 9)]"
      ]
     },
     "execution_count": 93,
     "metadata": {},
     "output_type": "execute_result"
    }
   ],
   "source": [
    "list(vocabulary.vocab.items())[:10]"
   ]
  },
  {
   "cell_type": "markdown",
   "metadata": {},
   "source": [
    "Mapping corpus to one hot encoded vectors"
   ]
  },
  {
   "cell_type": "code",
   "execution_count": 96,
   "metadata": {},
   "outputs": [
    {
     "name": "stdout",
     "output_type": "stream",
     "text": [
      "[[1. 0. 0. ... 0. 0. 0.]\n",
      " [0. 1. 0. ... 0. 0. 0.]\n",
      " [0. 0. 1. ... 0. 0. 0.]\n",
      " ...\n",
      " [0. 0. 0. ... 0. 0. 0.]\n",
      " [0. 0. 0. ... 0. 0. 0.]\n",
      " [0. 0. 0. ... 0. 0. 0.]]\n"
     ]
    },
    {
     "data": {
      "text/plain": [
       "(1905, 1109, 3786)"
      ]
     },
     "execution_count": 96,
     "metadata": {},
     "output_type": "execute_result"
    }
   ],
   "source": [
    "features = vocabulary.createEncodings()\n",
    "print(features[0])\n",
    "features.shape"
   ]
  },
  {
   "cell_type": "markdown",
   "metadata": {},
   "source": [
    "In the above we have one of 1905 features \n",
    "\n",
    "Each column represents a possible word in the sentence, upto a max length of 1109 words(longest sentence in the copurs)\n",
    "\n",
    "each row represents a possible word in the corpus(3786)"
   ]
  },
  {
   "cell_type": "markdown",
   "metadata": {},
   "source": [
    "## RNN"
   ]
  },
  {
   "cell_type": "code",
   "execution_count": 97,
   "metadata": {},
   "outputs": [],
   "source": [
    "import torch\n",
    "import torch.nn as nn\n",
    "import torch.nn.functional as F "
   ]
  },
  {
   "cell_type": "code",
   "execution_count": null,
   "metadata": {},
   "outputs": [],
   "source": [
    "class RNN(nn.Module):\n",
    "\n",
    "    def __init__(self, x: np.array) -> None:\n",
    "        super(self, RNN).__init__()\n",
    "        n_features = x.shape[0]\n",
    "        max_sentence_length = x.shape[1]\n",
    "        self.Wa = np.zeros((max_sentence_length  +  n_features))\n",
    "\n"
   ]
  }
 ],
 "metadata": {
  "interpreter": {
   "hash": "60d8857c79599bcfb926be3695e4986a2849cc5b000684eccb8b8a7c87d87a40"
  },
  "kernelspec": {
   "display_name": "Python 3.8.6 64-bit ('skillQuery': conda)",
   "language": "python",
   "name": "python3"
  },
  "language_info": {
   "codemirror_mode": {
    "name": "ipython",
    "version": 3
   },
   "file_extension": ".py",
   "mimetype": "text/x-python",
   "name": "python",
   "nbconvert_exporter": "python",
   "pygments_lexer": "ipython3",
   "version": "3.8.6"
  },
  "orig_nbformat": 4
 },
 "nbformat": 4,
 "nbformat_minor": 2
}
