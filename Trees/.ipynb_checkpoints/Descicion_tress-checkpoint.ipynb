{
 "cells": [
  {
   "cell_type": "code",
   "execution_count": 12,
   "metadata": {},
   "outputs": [],
   "source": [
    "import numpy as np\n",
    "import pandas as pd\n",
    "import  matplotlib.pyplot as plt\n",
    "import seaborn as sns\n",
    "from sklearn import datasets\n",
    "\n",
    "#set seed for random elements\n",
    "np.random.seed(100)\n",
    "import warnings\n",
    "warnings.filterwarnings(\"ignore\")"
   ]
  },
  {
   "cell_type": "markdown",
   "metadata": {},
   "source": [
    "# Decision trees "
   ]
  },
  {
   "cell_type": "markdown",
   "metadata": {
    "slideshow": {
     "slide_type": "notes"
    }
   },
   "source": [
    "### Now these are cool \n",
    "### The Decision trees are a bit of a different beast \n",
    "### Unlike generalised linear models which often have a defined link and loss function , \n",
    "### Decision trees are a recursevely optimized model through a criteria the most popular being gini index, although entropy is also popular \n",
    "\n"
   ]
  },
  {
   "cell_type": "code",
   "execution_count": 3,
   "metadata": {},
   "outputs": [],
   "source": [
    "df= pd.read_csv('IRIS.csv')\n",
    "df.species[df.species == 'Iris-setosa'] = 0\n",
    "df.species[df.species == 'Iris-versicolor'] = 1\n",
    "df.species[df.species == 'Iris-virginica'] = 2\n",
    "df.to_numpy().T.sort(axis = 0)\n"
   ]
  },
  {
   "cell_type": "markdown",
   "metadata": {},
   "source": [
    "#### Source of binary tree visualization implementation: <https://stackoverflow.com/questions/34012886/print-binary-tree-level-by-level-in-python>\n",
    "#### I had to edit Tree implementation as well as print algorithm to fit it with the purpose of the task"
   ]
  },
  {
   "cell_type": "code",
   "execution_count": 100,
   "metadata": {},
   "outputs": [],
   "source": [
    "class Node:\n",
    "\n",
    "    def __init__(self, key =None , root = None , x = None, y = None):\n",
    "        if key != None:\n",
    "            values = list(key.values())[0]\n",
    "            self.key = values['split']\n",
    "        else:\n",
    "            values = {'x':None,'y':None} \n",
    "            self.key = 0\n",
    "        self.root = root\n",
    "        self.right = None\n",
    "        self.left = None\n",
    "        if x == None:\n",
    "         \n",
    "            self.x = values['x']\n",
    "        else:\n",
    "            self.x = x\n",
    "        if y == None:\n",
    "            self.y = values['y']\n",
    "        else: \n",
    "            self.y = y\n",
    "\n",
    "\n",
    "    def set_left(self,left):\n",
    "        self.left = left\n",
    "\n",
    "\n",
    "        \n",
    "    def set_right(self,right):\n",
    "        self.right = right\n",
    "    \n",
    "    def is_leaf(self):\n",
    "        if (self.right == None and self.left == None):\n",
    "            \n",
    "            return True\n",
    "        \n",
    "        else:\n",
    "            return False\n",
    "        \n",
    "    def display(self):\n",
    "        lines, *_ = self._display_aux()\n",
    "        for line in lines:\n",
    "            print(line)\n",
    "\n",
    "        \n",
    "    def _display_aux(self):\n",
    "        \"\"\"Returns list of strings, width, height, and horizontal coordinate of the root.\"\"\"\n",
    "        # No child.\n",
    "        if self.right is None and self.left is None:\n",
    " \n",
    "            line =  f'y = {self.y} '\n",
    "            width = len(line)\n",
    "            height = 1\n",
    "            middle = width // 2\n",
    "            return [line], width, height, middle\n",
    "\n",
    "        # Only left child.\n",
    "        if self.right is None:\n",
    "            lines, n, p, x = self.left._display_aux()\n",
    "\n",
    "            s = f'{self.x} >= {np.round(self.key,3)} y = {self.y} '\n",
    "       \n",
    "            u = len(s)\n",
    "            first_line = (x + 1) * ' ' + (n - x - 2) * '_' + s\n",
    "            second_line = x * ' ' + '/' + (n - x - 2 + u) * ' '\n",
    "            shifted_lines = [line + u * ' ' for line in lines]\n",
    "            return [first_line, second_line] + shifted_lines, n + u, p + 2, n + u // 2\n",
    "\n",
    "        # Only right child.\n",
    "        if self.left is None:\n",
    "            lines, n, p, x = self.right._display_aux()\n",
    "\n",
    "            s = f'{self.x} >= {np.round(self.key,3)} y = {self.y} '\n",
    "            u = len(s)\n",
    "            first_line = s + x * '_' + (n - x) * ' '\n",
    "            second_line = (u + x) * ' ' + '\\\\' + (n - x - 2) * ' '\n",
    "            shifted_lines = [u * ' ' + line for line in lines]\n",
    "            return [first_line, second_line] + shifted_lines, n + u, p + 2, u // 2\n",
    "\n",
    "        # Two children.\n",
    "\n",
    "        left, n, p, x = self.left._display_aux()\n",
    "        right, m, q, y = self.right._display_aux()\n",
    "        lines, n, p, x = self.left._display_aux()\n",
    "\n",
    "        s = f'{self.x} >= {np.round(self.key,3)} y = {self.y} '\n",
    "        \n",
    "        u = len(s)\n",
    "        first_line = (x + 1) * ' ' + (n - x - 2) * '_' + s + y * '_' + (m - y) * ' '\n",
    "        second_line = x * ' ' + '/' + (n - x - 2 + u + y) * ' ' + '\\\\' + (m - y - 2) * ' '\n",
    "        if p < q:\n",
    "            left += [n * ' '] * (q - p)\n",
    "        elif q < p:\n",
    "            right += [m * ' '] * (p - q)\n",
    "        zipped_lines = zip(left, right)\n",
    "        lines = [first_line, second_line] + [a + u * ' ' + b for a, b in zipped_lines]\n",
    "        return lines, n + m + u, max(p, q) + 2, n + u // 2\n",
    "\n",
    "\n"
   ]
  },
  {
   "cell_type": "markdown",
   "metadata": {},
   "source": [
    "#### Create gini purity evaluation criteria"
   ]
  },
  {
   "cell_type": "code",
   "execution_count": 30,
   "metadata": {},
   "outputs": [],
   "source": [
    "def gini(p):\n",
    "    p_sum=np.sum(np.array(p)**2)\n",
    "    return (1 -p_sum)"
   ]
  },
  {
   "cell_type": "markdown",
   "metadata": {},
   "source": [
    "#### Calculate the gini purity for each branch split\n",
    "### $1-\\sum p_{i}^{2}$\n",
    "### in english this gives you a score of how seggreagated the data is \n",
    "### if you have a pure set this will yield zero, hence why the lower the better the split is\n"
   ]
  },
  {
   "cell_type": "code",
   "execution_count": 58,
   "metadata": {},
   "outputs": [],
   "source": [
    "\n",
    "def split_score(y_low,y_high,target,j,split):\n",
    "\n",
    "    y_low_p=[]\n",
    "    y_high_p=[]\n",
    "    \n",
    "    for i in y_low.unique():\n",
    "        y_low_p.append(get_p(i,y_low))\n",
    "        \n",
    "    for i in y_high.unique():\n",
    "        y_high_p.append(get_p(i,y_high))\n",
    "    g_low = gini(y_low_p)\n",
    "    g_high = gini(y_high_p)\n",
    "    score = (g_low*len(y_low) + g_high*len(y_high) )/ (len(y_high) + len(y_low) ) \n",
    "\n",
    "    return score"
   ]
  },
  {
   "cell_type": "code",
   "execution_count": 50,
   "metadata": {},
   "outputs": [],
   "source": [
    "def get_p(target,y):\n",
    "    val = np.sum(np.where(y  == target,1,0) ) \n",
    "    length = len(y)\n",
    "    p = val   /   length\n",
    "    return p "
   ]
  },
  {
   "cell_type": "code",
   "execution_count": 8,
   "metadata": {},
   "outputs": [],
   "source": [
    "def get_split_score(i,j,target,df):\n",
    "        \n",
    "        iteration = df[[j,target]]\n",
    "        iteration = iteration.sort_values(by = j)\n",
    "        # Using median as I want to use a value that is actually in the data, but could have used mean\n",
    "        iteration_high = iteration[iteration[j].mean() >= iteration[j]]\n",
    "        iteration_low = iteration[iteration[j].mean() < iteration[j]]\n",
    "        y_high = iteration_high[target]\n",
    "        y_low = iteration_low[target]\n",
    "        score = split_score(y_low,y_high,i,j,iteration[j].mean())\n",
    "        test = np.round(iteration[j].mean(),3)\n",
    "\n",
    "        \n",
    "        return {score:{\"y\":i,\"x\":j,\"split\":iteration[j].mean()}}\n"
   ]
  },
  {
   "cell_type": "code",
   "execution_count": 9,
   "metadata": {},
   "outputs": [],
   "source": [
    "def split_df(df,where):\n",
    "    values = list(where.values())[0]\n",
    "    x=values['x']\n",
    "    y=values['y']\n",
    "    split= values['split']\n",
    "    df_high = df[df[x] >= split ]\n",
    "    df_low = df[df[x] < split ]\n",
    "    return df_high,df_low"
   ]
  },
  {
   "cell_type": "markdown",
   "metadata": {},
   "source": [
    "#### Most basic Descicion tree algorithm. \n",
    "#### leafs are only created when gini impurity is zero for a split\n"
   ]
  },
  {
   "cell_type": "code",
   "execution_count": 94,
   "metadata": {},
   "outputs": [],
   "source": [
    "def build_tree(df,target,root = None,max_depth=None,depth = 1):\n",
    "    x_col = df.drop(columns = [target]).columns\n",
    "    y_labels = df[target].unique()\n",
    "    split_list = {}\n",
    "    #for each outcome calculate the meanie gini at each predictor to determine best split\n",
    "    for i in y_labels: \n",
    "        for j in x_col:\n",
    "            split_list.update(get_split_score(i,j,target,df))\n",
    "\n",
    "    min_score = min(split_list.keys())\n",
    "    split = split_list[min_score]\n",
    "    node_val = {min_score:split}\n",
    "    node = Node(key = node_val)\n",
    "    df_high,df_low = split_df(df,node_val)\n",
    "\n",
    "    #IF max depth has been reached set the value of the node to the lowest gini score\n",
    "    if max_depth != None:\n",
    "        if max_depth == depth:\n",
    "            return Node(y = node.y)\n",
    "    #If gini score is 0 it means it has seperated segregated the target value to a leaf so we do not want to keep recursing after\n",
    "    # Now there are various cases so in the below code I explain how to handle them\n",
    "    if min_score == 0:\n",
    "        low_features = df_low[target].unique()\n",
    "        high_features = df_high[target].unique()\n",
    "        #In the case were the data has fully segregated the output, we return a leaf node with the value of this iterations output(y)\n",
    "        if (len( low_features ) == 1 and len(high_features) == 1  ):\n",
    "            if(low_features[0] == high_features[0]):\n",
    "                return Node(y = node.y)\n",
    "        #If the low features only has one var then set that to be a leaf\n",
    "        if(len( low_features ) == 1) :\n",
    "            node.set_left(Node(y=low_features[0]))\n",
    "        #if the \"high data\" still has a mix of outputs(y) split it again to fully segregate them    \n",
    "        else:\n",
    "            node.set_left = build_tree(df_low,target,node,depth = depth+1,max_depth=max_depth)\n",
    "        #repeated steps of left nodes for right nodes\n",
    "        if(len(high_features) == 1 ):\n",
    "            node.set_right(Node(y=high_features[0]))\n",
    "        else:\n",
    "            node.set_right(build_tree(df_high,target,node,depth = depth+1,max_depth=max_depth))\n",
    "            return node\n",
    "    #if it is not zero recurse to build tree \n",
    "    else:\n",
    "        node.set_left(build_tree(df_low,target,node,depth = depth+1,max_depth=max_depth))\n",
    "        node.set_right(build_tree(df_high,target,node,depth = depth+1,max_depth=max_depth))\n",
    "\n",
    "    if(node.left.is_leaf() and node.right.is_leaf()):\n",
    "        if(node.left.y == node.right.y):\n",
    "            return Node(y = node.y)\n",
    "        \n",
    "    return node\n",
    "\n",
    "\n",
    "\n"
   ]
  },
  {
   "cell_type": "markdown",
   "metadata": {},
   "source": [
    "#### For display simplicity we will display a tree with a depth of 3 "
   ]
  },
  {
   "cell_type": "code",
   "execution_count": 102,
   "metadata": {},
   "outputs": [
    {
     "name": "stdout",
     "output_type": "stream",
     "text": [
      "                     ___________________________________________________petal_length >= 3.759 y = 2 _____________________________________________________                    \n",
      "                    /                                                                                                                                    \\                  \n",
      "    _petal_length >= 1.704 y = 1 ___________________                                                                     __________________petal_width >= 1.723 y = 2 ___   \n",
      "   /                                                \\                                                                  /                                                \\ \n",
      "y = 0                                 _petal_width >= 0.889 y = 1 ___                                   _petal_length >= 4.474 y = 2 ___                              y = 2 \n",
      "                                     /                               \\                                /                                \\                                  \n",
      "                                  y = 0                            y = 1                             y = 1                             y = 2                                  \n"
     ]
    }
   ],
   "source": [
    "tree=build_tree(df,'species',max_depth=4)\n",
    "tree.display()"
   ]
  }
 ],
 "metadata": {
  "interpreter": {
   "hash": "961d25575582502f5deaa39b930dbe1b811639c5b9aea0b446aa7add69b24b8e"
  },
  "kernelspec": {
   "display_name": "Python 3",
   "language": "python",
   "name": "python3"
  },
  "language_info": {
   "codemirror_mode": {
    "name": "ipython",
    "version": 3
   },
   "file_extension": ".py",
   "mimetype": "text/x-python",
   "name": "python",
   "nbconvert_exporter": "python",
   "pygments_lexer": "ipython3",
   "version": "3.7.4"
  }
 },
 "nbformat": 4,
 "nbformat_minor": 4
}
