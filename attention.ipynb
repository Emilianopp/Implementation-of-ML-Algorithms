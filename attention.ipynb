{
  "nbformat": 4,
  "nbformat_minor": 0,
  "metadata": {
    "colab": {
      "name": "attention.ipynb",
      "provenance": [],
      "authorship_tag": "ABX9TyMpVldK9bUei3Gksf6EFnLE",
      "include_colab_link": true
    },
    "kernelspec": {
      "name": "python3",
      "display_name": "Python 3"
    },
    "language_info": {
      "name": "python"
    }
  },
  "cells": [
    {
      "cell_type": "markdown",
      "metadata": {
        "id": "view-in-github",
        "colab_type": "text"
      },
      "source": [
        "<a href=\"https://colab.research.google.com/github/Emilianopp/Implementation-of-ML-Algorithms/blob/master/attention.ipynb\" target=\"_parent\"><img src=\"https://colab.research.google.com/assets/colab-badge.svg\" alt=\"Open In Colab\"/></a>"
      ]
    },
    {
      "cell_type": "markdown",
      "source": [
        "Attention as a concept is fairly simple we have three primary inputs keys(K), queries(Q), and values(V)\n",
        "\n",
        "We can compute each of these with their appropriate word embeddings:"
      ],
      "metadata": {
        "id": "Ex2er3XYd_0F"
      }
    },
    {
      "cell_type": "code",
      "source": [
        "# one hot encoded emebedings \n",
        "#normal embeddings would be ditc_size x embedding_size dimensional\n",
        "import numpy as np\n",
        "from scipy.special import softmax \n",
        "embedding_space = 4\n",
        "n_words = 3\n",
        "\n",
        "#set seed for reproduction\n",
        "np.random.seed(1)\n",
        "words = np.random.randint(3,size = (n_words,embedding_space)) \n",
        "\n",
        "#keys\n",
        "kw = np.random.randint(3,size = (embedding_space,embedding_space)) \n",
        "\n",
        "\n",
        "#queries\n",
        "qw = np.random.randint(3,size = (embedding_space,embedding_space)) \n",
        "\n",
        "\n",
        "#values\n",
        "vw = np.random.randint(3,size = (embedding_space,embedding_space)) \n",
        "\n",
        "\n",
        "\n",
        "keys= words @ kw\n",
        "queries = words @ qw\n",
        "values = words @ vw\n",
        "\n",
        "# alphas dimension of words x words \n",
        "# This is due to us wanting to know the weighted sum of each alpha key querie combination with the value matrix\n",
        "\n",
        "scores = queries@keys.T\n",
        "\n",
        "#normalize the weights by square root of shape as to not have things be too big\n",
        "\n",
        "alphas = softmax(scores/ keys.shape[0] ** 2,axis = 1)\n",
        "\n",
        "\n",
        "attention = alphas @ values \n",
        "\n",
        "# It is important to note here why we multiply the alphas x the values. One may think, shouldn't we be multiplying the values @ alphas or something along those liens?\n",
        "# The asnwer is no, here we are using our alpha scores to go through the embedding vector for each word and telling us what to givec value to \n",
        "# It is like for each column in the embedding space how much of it is importatnt and relevant for that specific word/imput at that time. \n",
        "\n",
        "print(attention)"
      ],
      "metadata": {
        "colab": {
          "base_uri": "https://localhost:8080/"
        },
        "id": "sGZXNvqKeEIS",
        "outputId": "460637df-de67-4b85-92ba-8ef498e3d908"
      },
      "execution_count": 104,
      "outputs": [
        {
          "output_type": "stream",
          "name": "stdout",
          "text": [
            "[[4.98676052 1.         0.49338026 3.        ]\n",
            " [4.98676052 1.         0.49338026 3.        ]\n",
            " [4.82200926 1.         0.41100463 3.        ]]\n"
          ]
        }
      ]
    },
    {
      "cell_type": "code",
      "source": [
        ""
      ],
      "metadata": {
        "id": "CucOicQ6qLmA"
      },
      "execution_count": null,
      "outputs": []
    }
  ]
}